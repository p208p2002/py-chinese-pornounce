{
  "nbformat": 4,
  "nbformat_minor": 0,
  "metadata": {
    "colab": {
      "provenance": [],
      "collapsed_sections": [
        "WK8SfEEsgwbH",
        "coOpDhGHg7vL",
        "TxSrgRaGhx3F",
        "t9tFAWJah0CY",
        "yEu8iYYMh_ut",
        "F7BeIpwJiFdH",
        "7gWgpCGLlr7K",
        "aXLE6XRil04w",
        "H-IOelihl7EV"
      ]
    },
    "kernelspec": {
      "name": "python3",
      "display_name": "Python 3"
    },
    "language_info": {
      "name": "python"
    }
  },
  "cells": [
    {
      "cell_type": "markdown",
      "source": [
        "# Python Chinese Pronounce\n",
        "\n",
        "## Autor\n",
        "- Philip Huang [@p208p2002](https://github.com/p208p2002)\n",
        "\n",
        "## 相關文件\n",
        "- 主頁: https://philip-huang.tech/py-chinese-pronounce/\n",
        "- 函式調用說明: https://philip-huang.tech/py-chinese-pronounce/py_chinese_pronounce.html\n",
        "\n",
        "## 功能\n",
        "- 文字轉注音、漢語發音\n",
        "- 注音、漢語發音轉文字\n",
        "- 尋找相似、相同發聲字/單詞\n",
        "\n",
        "## 資料來源\n",
        "- [政府開放資料](https://data.gov.tw/dataset/5961)\n",
        "- [超齊百萬字典檔](https://github.com/samejack/sc-dictionary)\n",
        "- [教育部國語辭典公眾授權網](https://language.moe.gov.tw/001/Upload/Files/site_content/M0001/respub/dict_concised_download.html)"
      ],
      "metadata": {
        "id": "A3ELBtFweEXQ"
      }
    },
    {
      "cell_type": "markdown",
      "source": [
        "## Install"
      ],
      "metadata": {
        "id": "CnKahdOcgnox"
      }
    },
    {
      "cell_type": "markdown",
      "source": [
        "### From: PyPI\n",
        "- URL: https://pypi.org/project/py-chinese-pronounce/"
      ],
      "metadata": {
        "id": "WK8SfEEsgwbH"
      }
    },
    {
      "cell_type": "code",
      "source": [
        "!pip install py-chinese-pronounce"
      ],
      "metadata": {
        "id": "_DRF4VvOgvs6"
      },
      "execution_count": null,
      "outputs": []
    },
    {
      "cell_type": "markdown",
      "source": [
        "### From: Github Repo\n",
        "- URL: https://github.com/p208p2002/py-chinese-pronounce"
      ],
      "metadata": {
        "id": "coOpDhGHg7vL"
      }
    },
    {
      "cell_type": "code",
      "execution_count": 1,
      "metadata": {
        "colab": {
          "base_uri": "https://localhost:8080/"
        },
        "id": "Tmi0bW30d7tx",
        "outputId": "dfce7a38-d8bf-4bcd-f4d9-6bb8fe19e3b4"
      },
      "outputs": [
        {
          "output_type": "stream",
          "name": "stdout",
          "text": [
            "Collecting git+https://github.com/p208p2002/py-chinese-pronounce.git\n",
            "  Cloning https://github.com/p208p2002/py-chinese-pronounce.git to /tmp/pip-req-build-qrlavyx2\n",
            "  Running command git clone --filter=blob:none --quiet https://github.com/p208p2002/py-chinese-pronounce.git /tmp/pip-req-build-qrlavyx2\n",
            "  Resolved https://github.com/p208p2002/py-chinese-pronounce.git to commit f6d4c7250f390a50644e13e3454e74a4e95c9a3e\n",
            "  Installing build dependencies ... \u001b[?25l\u001b[?25hdone\n",
            "  Getting requirements to build wheel ... \u001b[?25l\u001b[?25hdone\n",
            "  Preparing metadata (pyproject.toml) ... \u001b[?25l\u001b[?25hdone\n",
            "Collecting Levenshtein<0.21.0,>=0.20.5 (from py-chinese-pronounce==0.1.13)\n",
            "  Downloading Levenshtein-0.20.9-cp310-cp310-manylinux_2_17_x86_64.manylinux2014_x86_64.whl.metadata (3.4 kB)\n",
            "Collecting ahocorasick-python<0.0.10,>=0.0.9 (from py-chinese-pronounce==0.1.13)\n",
            "  Downloading ahocorasick-python-0.0.9.tar.gz (3.3 kB)\n",
            "  Preparing metadata (setup.py) ... \u001b[?25l\u001b[?25hdone\n",
            "Requirement already satisfied: openpyxl<4.0.0,>=3.1.2 in /usr/local/lib/python3.10/dist-packages (from py-chinese-pronounce==0.1.13) (3.1.5)\n",
            "Collecting pandas<2.0.0,>=1.5.3 (from py-chinese-pronounce==0.1.13)\n",
            "  Downloading pandas-1.5.3-cp310-cp310-manylinux_2_17_x86_64.manylinux2014_x86_64.whl.metadata (11 kB)\n",
            "Requirement already satisfied: xlrd<3.0.0,>=2.0.1 in /usr/local/lib/python3.10/dist-packages (from py-chinese-pronounce==0.1.13) (2.0.1)\n",
            "Collecting rapidfuzz<3.0.0,>=2.3.0 (from Levenshtein<0.21.0,>=0.20.5->py-chinese-pronounce==0.1.13)\n",
            "  Downloading rapidfuzz-2.15.2-cp310-cp310-manylinux_2_17_x86_64.manylinux2014_x86_64.whl.metadata (9.0 kB)\n",
            "Requirement already satisfied: et-xmlfile in /usr/local/lib/python3.10/dist-packages (from openpyxl<4.0.0,>=3.1.2->py-chinese-pronounce==0.1.13) (1.1.0)\n",
            "Requirement already satisfied: python-dateutil>=2.8.1 in /usr/local/lib/python3.10/dist-packages (from pandas<2.0.0,>=1.5.3->py-chinese-pronounce==0.1.13) (2.8.2)\n",
            "Requirement already satisfied: pytz>=2020.1 in /usr/local/lib/python3.10/dist-packages (from pandas<2.0.0,>=1.5.3->py-chinese-pronounce==0.1.13) (2024.1)\n",
            "Requirement already satisfied: numpy>=1.21.0 in /usr/local/lib/python3.10/dist-packages (from pandas<2.0.0,>=1.5.3->py-chinese-pronounce==0.1.13) (1.26.4)\n",
            "Requirement already satisfied: six>=1.5 in /usr/local/lib/python3.10/dist-packages (from python-dateutil>=2.8.1->pandas<2.0.0,>=1.5.3->py-chinese-pronounce==0.1.13) (1.16.0)\n",
            "Downloading Levenshtein-0.20.9-cp310-cp310-manylinux_2_17_x86_64.manylinux2014_x86_64.whl (174 kB)\n",
            "\u001b[2K   \u001b[90m━━━━━━━━━━━━━━━━━━━━━━━━━━━━━━━━━━━━━━━━\u001b[0m \u001b[32m174.1/174.1 kB\u001b[0m \u001b[31m1.2 MB/s\u001b[0m eta \u001b[36m0:00:00\u001b[0m\n",
            "\u001b[?25hDownloading pandas-1.5.3-cp310-cp310-manylinux_2_17_x86_64.manylinux2014_x86_64.whl (12.1 MB)\n",
            "\u001b[2K   \u001b[90m━━━━━━━━━━━━━━━━━━━━━━━━━━━━━━━━━━━━━━━━\u001b[0m \u001b[32m12.1/12.1 MB\u001b[0m \u001b[31m46.6 MB/s\u001b[0m eta \u001b[36m0:00:00\u001b[0m\n",
            "\u001b[?25hDownloading rapidfuzz-2.15.2-cp310-cp310-manylinux_2_17_x86_64.manylinux2014_x86_64.whl (3.0 MB)\n",
            "\u001b[2K   \u001b[90m━━━━━━━━━━━━━━━━━━━━━━━━━━━━━━━━━━━━━━━━\u001b[0m \u001b[32m3.0/3.0 MB\u001b[0m \u001b[31m58.1 MB/s\u001b[0m eta \u001b[36m0:00:00\u001b[0m\n",
            "\u001b[?25hBuilding wheels for collected packages: py-chinese-pronounce, ahocorasick-python\n",
            "  Building wheel for py-chinese-pronounce (pyproject.toml) ... \u001b[?25l\u001b[?25hdone\n",
            "  Created wheel for py-chinese-pronounce: filename=py_chinese_pronounce-0.1.13-py3-none-any.whl size=12467376 sha256=92ccd4111532d0e5080dcee79e08e06b4f30bf3a75fcb067761a4c676aebd34c\n",
            "  Stored in directory: /tmp/pip-ephem-wheel-cache-ek6e8e8f/wheels/58/9b/db/5790e0c201364f242414f993dd7c29fa35264b7b858f69f078\n",
            "  Building wheel for ahocorasick-python (setup.py) ... \u001b[?25l\u001b[?25hdone\n",
            "  Created wheel for ahocorasick-python: filename=ahocorasick_python-0.0.9-py3-none-any.whl size=3386 sha256=0f61fe1a0850f3f341a00d011d6f4aa38e33cb0898920cd22887c044e2548c6b\n",
            "  Stored in directory: /root/.cache/pip/wheels/b0/8f/fb/39b26bfefb581b77deebc6baeb4785482419bb10e3b52865d0\n",
            "Successfully built py-chinese-pronounce ahocorasick-python\n",
            "Installing collected packages: ahocorasick-python, rapidfuzz, pandas, Levenshtein, py-chinese-pronounce\n",
            "  Attempting uninstall: pandas\n",
            "    Found existing installation: pandas 2.1.4\n",
            "    Uninstalling pandas-2.1.4:\n",
            "      Successfully uninstalled pandas-2.1.4\n",
            "\u001b[31mERROR: pip's dependency resolver does not currently take into account all the packages that are installed. This behaviour is the source of the following dependency conflicts.\n",
            "cudf-cu12 24.4.1 requires pandas<2.2.2dev0,>=2.0, but you have pandas 1.5.3 which is incompatible.\n",
            "google-colab 1.0.0 requires pandas==2.1.4, but you have pandas 1.5.3 which is incompatible.\n",
            "xarray 2024.6.0 requires pandas>=2.0, but you have pandas 1.5.3 which is incompatible.\u001b[0m\u001b[31m\n",
            "\u001b[0mSuccessfully installed Levenshtein-0.20.9 ahocorasick-python-0.0.9 pandas-1.5.3 py-chinese-pronounce-0.1.13 rapidfuzz-2.15.2\n"
          ]
        }
      ],
      "source": [
        "!pip install -U git+https://github.com/p208p2002/py-chinese-pronounce.git"
      ]
    },
    {
      "cell_type": "markdown",
      "source": [
        "## Usage"
      ],
      "metadata": {
        "id": "PXCeotzphPZn"
      }
    },
    {
      "cell_type": "code",
      "source": [
        "from py_chinese_pronounce import Word2Pronounce,Pronounce2Word"
      ],
      "metadata": {
        "id": "xh_eQjlChOim"
      },
      "execution_count": 16,
      "outputs": []
    },
    {
      "cell_type": "markdown",
      "source": [
        "### Word2Pronounce: 從文字轉換發音"
      ],
      "metadata": {
        "id": "hbBpCz6YhdAf"
      }
    },
    {
      "cell_type": "code",
      "source": [
        "w2p = Word2Pronounce()"
      ],
      "metadata": {
        "id": "ICnU3W56njjH"
      },
      "execution_count": 17,
      "outputs": []
    },
    {
      "cell_type": "markdown",
      "source": [
        "#### 字元轉注音"
      ],
      "metadata": {
        "id": "TxSrgRaGhx3F"
      }
    },
    {
      "cell_type": "code",
      "source": [
        "w2p.to_chewin(\"我\") # ㄨㄛˇ"
      ],
      "metadata": {
        "colab": {
          "base_uri": "https://localhost:8080/",
          "height": 35
        },
        "id": "mdhuK_hrhX7E",
        "outputId": "cf312a11-14be-4ce0-99ba-13872eaf7c4e"
      },
      "execution_count": 3,
      "outputs": [
        {
          "output_type": "execute_result",
          "data": {
            "text/plain": [
              "'ㄨㄛˇ'"
            ],
            "application/vnd.google.colaboratory.intrinsic+json": {
              "type": "string"
            }
          },
          "metadata": {},
          "execution_count": 3
        }
      ]
    },
    {
      "cell_type": "markdown",
      "source": [
        "#### 字元轉漢語發音"
      ],
      "metadata": {
        "id": "t9tFAWJah0CY"
      }
    },
    {
      "cell_type": "code",
      "source": [
        "w2p.to_han(\"我\") # wo3"
      ],
      "metadata": {
        "colab": {
          "base_uri": "https://localhost:8080/",
          "height": 35
        },
        "id": "24-7aS8Gh4hz",
        "outputId": "860bcdbf-edbf-43aa-f611-c95deb207d50"
      },
      "execution_count": 18,
      "outputs": [
        {
          "output_type": "execute_result",
          "data": {
            "text/plain": [
              "'wo3'"
            ],
            "application/vnd.google.colaboratory.intrinsic+json": {
              "type": "string"
            }
          },
          "metadata": {},
          "execution_count": 18
        }
      ]
    },
    {
      "cell_type": "markdown",
      "source": [
        "#### 句子轉注音"
      ],
      "metadata": {
        "id": "yEu8iYYMh_ut"
      }
    },
    {
      "cell_type": "code",
      "source": [
        "w2p.sent_to_chewin(\"你來扮演這個角色\")\n",
        "# ['ㄋㄧˇ', 'ㄌㄞˊ', 'ㄅㄢˋ', 'ㄧㄢˇ', 'ㄓㄜˋ', '˙ㄍㄜ', 'ㄐㄩㄝˊ', 'ㄙㄜˋ']"
      ],
      "metadata": {
        "colab": {
          "base_uri": "https://localhost:8080/"
        },
        "id": "jGlTJ4XJiByM",
        "outputId": "b7e862aa-f5eb-4dd7-fbb0-3ff0139fcd3d"
      },
      "execution_count": 19,
      "outputs": [
        {
          "output_type": "execute_result",
          "data": {
            "text/plain": [
              "['ㄋㄧˇ', 'ㄌㄞˊ', 'ㄅㄢˋ', 'ㄧㄢˇ', 'ㄓㄜˋ', '˙ㄍㄜ', 'ㄐㄩㄝˊ', 'ㄙㄜˋ']"
            ]
          },
          "metadata": {},
          "execution_count": 19
        }
      ]
    },
    {
      "cell_type": "markdown",
      "source": [
        "#### 句子轉漢語發音\n",
        "> 感謝 [@Evanston0624](https://github.com/Evanston0624) 實作此功能"
      ],
      "metadata": {
        "id": "F7BeIpwJiFdH"
      }
    },
    {
      "cell_type": "code",
      "source": [
        "w2p.sent_to_han(\"你來扮演這個角色\")\n",
        "# ['ni3', 'lai2', 'ban4', 'yan3', 'zhe4', 'ge5', 'jue2', 'se4']"
      ],
      "metadata": {
        "colab": {
          "base_uri": "https://localhost:8080/"
        },
        "id": "hx-wmSZIiIGf",
        "outputId": "a3fd2634-0af3-4c29-9f70-54fcfb77e096"
      },
      "execution_count": 20,
      "outputs": [
        {
          "output_type": "execute_result",
          "data": {
            "text/plain": [
              "['ni3', 'lai2', 'ban4', 'yan3', 'zhe4', 'ge5', 'jue2', 'se4']"
            ]
          },
          "metadata": {},
          "execution_count": 20
        }
      ]
    },
    {
      "cell_type": "markdown",
      "source": [
        "#### 發音相似度比較\n",
        "\n",
        "> 數值區間會落在 `0`~`1`"
      ],
      "metadata": {
        "id": "0xH_1N3UiOrY"
      }
    },
    {
      "cell_type": "markdown",
      "source": [
        "- 字元"
      ],
      "metadata": {
        "id": "lcmB_OvAqkvf"
      }
    },
    {
      "cell_type": "code",
      "source": [
        "a,b = \"我\",\"捰\"\n",
        "w2p.char_pronounce_similar(a,b)"
      ],
      "metadata": {
        "colab": {
          "base_uri": "https://localhost:8080/"
        },
        "id": "H-itovLIiWtE",
        "outputId": "91144ab4-6108-4acd-e6e2-4c6168d543a5"
      },
      "execution_count": 21,
      "outputs": [
        {
          "output_type": "execute_result",
          "data": {
            "text/plain": [
              "1.0"
            ]
          },
          "metadata": {},
          "execution_count": 21
        }
      ]
    },
    {
      "cell_type": "markdown",
      "source": [
        "- 句子"
      ],
      "metadata": {
        "id": "szEETsAcqoMS"
      }
    },
    {
      "cell_type": "code",
      "source": [
        "sent_a,sent_b = \"你好\",\"你好嗎\"\n",
        "w2p.sent_pronounce_similar(sent_a, sent_b)"
      ],
      "metadata": {
        "colab": {
          "base_uri": "https://localhost:8080/"
        },
        "id": "TT9cF3-Fp5t1",
        "outputId": "0c249605-cf92-4674-f35d-9da342138094"
      },
      "execution_count": 12,
      "outputs": [
        {
          "output_type": "execute_result",
          "data": {
            "text/plain": [
              "0.6666666666666666"
            ]
          },
          "metadata": {},
          "execution_count": 12
        }
      ]
    },
    {
      "cell_type": "markdown",
      "source": [
        "#### 其他轉換\n",
        "> CNS: [中文標準交換碼](https://www.cns11643.gov.tw/index.jsp)\n",
        "\n",
        "- `Word2Pronounce._word2unicode(self, x)`\n",
        "- `Word2Pronounce._uni2word(self,uni)`\n",
        "- `Word2Pronounce._cns2word(self,cns)`\n",
        "- `Word2Pronounce._uni2cns(self, uni)`\n"
      ],
      "metadata": {
        "id": "d2lp0IrtidWi"
      }
    },
    {
      "cell_type": "markdown",
      "source": [
        "### Pronounce2Word: 從發音轉/找文字"
      ],
      "metadata": {
        "id": "xsYa5X2OlOFd"
      }
    },
    {
      "cell_type": "code",
      "source": [
        "p2w = Pronounce2Word()"
      ],
      "metadata": {
        "id": "tFdTbVGPn0Hv"
      },
      "execution_count": 22,
      "outputs": []
    },
    {
      "cell_type": "markdown",
      "source": [
        "#### 注音找字元"
      ],
      "metadata": {
        "id": "FszZOU2VlUo0"
      }
    },
    {
      "cell_type": "code",
      "source": [
        "p2w.chewin2word(\"ㄨㄛˇ\")\n",
        "# ['䰀', '婑', '捰', '㦱', '我', '䂺']"
      ],
      "metadata": {
        "id": "40d9J0qBlRvu"
      },
      "execution_count": null,
      "outputs": []
    },
    {
      "cell_type": "markdown",
      "source": [
        "#### 漢語發音找字元"
      ],
      "metadata": {
        "id": "P_MALqEWlY1o"
      }
    },
    {
      "cell_type": "code",
      "source": [
        "p2w.han2word(\"wo3\")\n",
        "# ['䰀', '婑', '捰', '㦱', '我', '䂺']"
      ],
      "metadata": {
        "id": "Wu6hd9oflbaG"
      },
      "execution_count": null,
      "outputs": []
    },
    {
      "cell_type": "markdown",
      "source": [
        "#### 字元找同發音"
      ],
      "metadata": {
        "id": "0IKN07_2leEv"
      }
    },
    {
      "cell_type": "code",
      "source": [
        "p2w.find_same(\"我\")\n",
        "# ['䰀', '婑', '捰', '㦱', '䂺']"
      ],
      "metadata": {
        "id": "RYCcbjvXlo0K"
      },
      "execution_count": null,
      "outputs": []
    },
    {
      "cell_type": "markdown",
      "source": [
        "#### 字元找近似發音"
      ],
      "metadata": {
        "id": "7gWgpCGLlr7K"
      }
    },
    {
      "cell_type": "code",
      "source": [
        "p2w.find_similar(\"我\")\n",
        "# ['蠖', '臥', '䇶', '䂺', '䪝', '捾', '偓', '握', '捰', '卧', '雘', '㦱', '濣', '䠎', '楃', '沃', '渥', '䁊', '涴', '幄', '龌', '㓇', '矱', '斡', '㠛', '肟', '齷', '仴', '䰀', '婑', '喔', '腛', '䀑']"
      ],
      "metadata": {
        "colab": {
          "base_uri": "https://localhost:8080/"
        },
        "id": "3pENT1s-luED",
        "outputId": "f1bc0e24-9c58-4ef2-f318-e920073eefa7"
      },
      "execution_count": 4,
      "outputs": [
        {
          "output_type": "execute_result",
          "data": {
            "text/plain": [
              "['挝',\n",
              " '䆧',\n",
              " '雘',\n",
              " '捰',\n",
              " '䪝',\n",
              " '䰀',\n",
              " '薶',\n",
              " '窩',\n",
              " '㳡',\n",
              " '捾',\n",
              " '䁊',\n",
              " '涹',\n",
              " '腛',\n",
              " '婑',\n",
              " '蠖',\n",
              " '䔆',\n",
              " '沃',\n",
              " '偓',\n",
              " '蜗',\n",
              " '猧',\n",
              " '握',\n",
              " '埚',\n",
              " '臥',\n",
              " '龌',\n",
              " '㠛',\n",
              " '幄',\n",
              " '楃',\n",
              " '濣',\n",
              " '齷',\n",
              " '㓇',\n",
              " '斡',\n",
              " '㦱',\n",
              " '仴',\n",
              " '渥',\n",
              " '肟',\n",
              " '萵',\n",
              " '矱',\n",
              " '涡',\n",
              " '莴',\n",
              " '䂺',\n",
              " '䇶',\n",
              " '窝',\n",
              " '渦',\n",
              " '卧',\n",
              " '䀑',\n",
              " '涴',\n",
              " '䠎',\n",
              " '喔']"
            ]
          },
          "metadata": {},
          "execution_count": 4
        }
      ]
    },
    {
      "cell_type": "markdown",
      "source": [
        "#### 相似發聲詞"
      ],
      "metadata": {
        "id": "aXLE6XRil04w"
      }
    },
    {
      "cell_type": "markdown",
      "source": [
        "-  從去除聲調找相似"
      ],
      "metadata": {
        "id": "JwfON6Yll_aE"
      }
    },
    {
      "cell_type": "code",
      "source": [
        "p2w.find_similar_vocab(\"汽車\")\n",
        "# ['七尺', '棋車', '棋车', '气车', '氣車', '汽车', '騎車', '骑车']"
      ],
      "metadata": {
        "colab": {
          "base_uri": "https://localhost:8080/"
        },
        "id": "BAWjCmrwlzNT",
        "outputId": "acc21c71-21e4-4e33-8e78-77f69a52571b"
      },
      "execution_count": 13,
      "outputs": [
        {
          "output_type": "execute_result",
          "data": {
            "text/plain": [
              "['七尺', '棋車', '棋车', '气车', '氣車', '汽车', '騎車', '骑车']"
            ]
          },
          "metadata": {},
          "execution_count": 13
        }
      ]
    },
    {
      "cell_type": "markdown",
      "source": [
        "- 從發音編輯距離找相似"
      ],
      "metadata": {
        "id": "-BXJ-E7TmFjE"
      }
    },
    {
      "cell_type": "code",
      "source": [
        "p2w.find_similar_vocab_level(\"清晨\",level=1)\n",
        "# ['傾城', '清城', '清澄', '青城', '清淳', '清純', '清纯', '清醇', '清神', '青神', '星塵', ..."
      ],
      "metadata": {
        "colab": {
          "base_uri": "https://localhost:8080/"
        },
        "id": "yn1QBBnvl7rO",
        "outputId": "4f0fb715-a8f6-4c4a-bb6b-3a1333c50160"
      },
      "execution_count": 14,
      "outputs": [
        {
          "output_type": "execute_result",
          "data": {
            "text/plain": [
              "['傾城',\n",
              " '清城',\n",
              " '清澄',\n",
              " '青城',\n",
              " '清神',\n",
              " '青神',\n",
              " '清淳',\n",
              " '清純',\n",
              " '清纯',\n",
              " '清醇',\n",
              " '星塵',\n",
              " '星尘',\n",
              " '星辰',\n",
              " '侵晨',\n",
              " '揿沉',\n",
              " '撳沉',\n",
              " '将成',\n",
              " '將成',\n",
              " '倾城',\n",
              " '庆城',\n",
              " '慶城',\n",
              " '聽臣',\n",
              " '景臣',\n",
              " '令辰',\n",
              " '凌晨',\n",
              " '枪神',\n",
              " '輕信',\n",
              " '輕身',\n",
              " '請槍',\n",
              " '清产',\n",
              " '清產',\n",
              " '卿真',\n",
              " '清真',\n",
              " '清鎮',\n",
              " '清镇',\n",
              " '清彻',\n",
              " '清徹',\n",
              " '清撤',\n",
              " '清澈',\n",
              " '清車',\n",
              " '清车',\n",
              " '輕車',\n",
              " '青春',\n",
              " '丙辰',\n",
              " '柄臣',\n",
              " '倖臣',\n",
              " '幸臣',\n",
              " '敬陈',\n",
              " '敬陳',\n",
              " '平陈',\n",
              " '平陳',\n",
              " '冰城',\n",
              " '冰成',\n",
              " '檳城',\n",
              " '精誠',\n",
              " '精诚',\n",
              " '秦城',\n",
              " '樱唇',\n",
              " '櫻脣',\n",
              " '冰槍',\n",
              " '冰蟾',\n",
              " '精神',\n",
              " '精純',\n",
              " '精纯',\n",
              " '嵚岑',\n",
              " '嶔岑',\n",
              " '嶜岑',\n",
              " '聽成',\n",
              " '聽程',\n",
              " '应城',\n",
              " '应承',\n",
              " '影城',\n",
              " '應城',\n",
              " '應承',\n",
              " '景程',\n",
              " '營城',\n",
              " '营城',\n",
              " '另成',\n",
              " '铃铛',\n",
              " '領成',\n",
              " '领成',\n",
              " '麦城',\n",
              " '並成',\n",
              " '併成',\n",
              " '并成',\n",
              " '病成',\n",
              " '病程',\n",
              " '秉承',\n",
              " '饼铛',\n",
              " '兴城',\n",
              " '兴澄',\n",
              " '形成',\n",
              " '興城',\n",
              " '興澄',\n",
              " '行程',\n",
              " '訂成',\n",
              " '订成',\n",
              " '鼎城',\n",
              " '敬呈',\n",
              " '竟成',\n",
              " '平城',\n",
              " '平成',\n",
              " '聘成',\n",
              " '評成',\n",
              " '评成',\n",
              " '挺神',\n",
              " '迎神',\n",
              " '映衬',\n",
              " '映襯',\n",
              " '硬衬',\n",
              " '硬襯',\n",
              " '硬撐',\n",
              " '硬撑',\n",
              " '灵榇',\n",
              " '靈櫬',\n",
              " '倰僜',\n",
              " '鈴鐺',\n",
              " '枪身',\n",
              " '将车',\n",
              " '將車',\n",
              " '情信',\n",
              " '情深',\n",
              " '罄身',\n",
              " '親信',\n",
              " '親身',\n",
              " '轻信',\n",
              " '轻身',\n",
              " '情真',\n",
              " '轻车',\n",
              " '庆春',\n",
              " '慶春',\n",
              " '餅鐺',\n",
              " '丙醇',\n",
              " '形神',\n",
              " '行什',\n",
              " '醒神',\n",
              " '釘痕',\n",
              " '钉痕',\n",
              " '定神',\n",
              " '釘槍',\n",
              " '敬神',\n",
              " '警槍',\n",
              " '英尺',\n",
              " '兵阵',\n",
              " '兵陣',\n",
              " '冰枕',\n",
              " '冰針',\n",
              " '冰鎮',\n",
              " '冰针',\n",
              " '冰镇',\n",
              " '兵車',\n",
              " '兵车',\n",
              " '冰車',\n",
              " '冰车',\n",
              " '星震',\n",
              " '更审',\n",
              " '更審',\n",
              " '更深',\n",
              " '更甚',\n",
              " '精审',\n",
              " '精審',\n",
              " '精深',\n",
              " '耕莘',\n",
              " '驚顫',\n",
              " '晶振',\n",
              " '更臻',\n",
              " '經偵',\n",
              " '荆榛',\n",
              " '荆针',\n",
              " '荊榛',\n",
              " '荊針',\n",
              " '莖針',\n",
              " '惊车',\n",
              " '驚車',\n",
              " '凛抌',\n",
              " '凜抌',\n",
              " '秦震',\n",
              " '寝车',\n",
              " '寢車',\n",
              " '秦春',\n",
              " '墙身',\n",
              " '強身',\n",
              " '强身',\n",
              " '牆身',\n",
              " '強震',\n",
              " '强震',\n",
              " '強扯',\n",
              " '强扯',\n",
              " '並稱',\n",
              " '并称',\n",
              " '敬称',\n",
              " '敬稱',\n",
              " '庭审',\n",
              " '庭審',\n",
              " '挺伸',\n",
              " '挺身',\n",
              " '聽信',\n",
              " '聽審',\n",
              " '停产',\n",
              " '停產',\n",
              " '停診',\n",
              " '停诊',\n",
              " '聽診',\n",
              " '停車',\n",
              " '停车',\n",
              " '应身',\n",
              " '應身',\n",
              " '景审',\n",
              " '景審',\n",
              " '景深',\n",
              " '硬伸',\n",
              " '縈身',\n",
              " '萦身',\n",
              " '營產',\n",
              " '营产',\n",
              " '应真',\n",
              " '应诊',\n",
              " '應真',\n",
              " '應診',\n",
              " '盈尺',\n",
              " '硬扯',\n",
              " '迎春',\n",
              " '菱紳',\n",
              " '菱绅',\n",
              " '凌振',\n",
              " '領針',\n",
              " '领针',\n",
              " '灵澈',\n",
              " '灵车',\n",
              " '靈澈',\n",
              " '靈車',\n",
              " '丙申',\n",
              " '病身',\n",
              " '並臻',\n",
              " '并臻',\n",
              " '刑审',\n",
              " '刑審',\n",
              " '幸甚',\n",
              " '形肾',\n",
              " '形腎',\n",
              " '行身',\n",
              " '兴产',\n",
              " '興產',\n",
              " '刑侦',\n",
              " '刑偵',\n",
              " '行針',\n",
              " '行鍼',\n",
              " '行针',\n",
              " '邢貞',\n",
              " '邢贞',\n",
              " '型車',\n",
              " '型车',\n",
              " '行車',\n",
              " '行车',\n",
              " '定身',\n",
              " '定产',\n",
              " '定產',\n",
              " '頂真',\n",
              " '頂針',\n",
              " '顶真',\n",
              " '顶针',\n",
              " '訂車',\n",
              " '订车',\n",
              " '井深',\n",
              " '敬信',\n",
              " '敬慎',\n",
              " '淨身',\n",
              " '经侦',\n",
              " '茎针',\n",
              " '頸枕',\n",
              " '颈枕',\n",
              " '警車',\n",
              " '警车',\n",
              " '靓车',\n",
              " '靚車',\n",
              " '竞春',\n",
              " '競春',\n",
              " '凭信',\n",
              " '平伸',\n",
              " '平信',\n",
              " '平身',\n",
              " '憑信',\n",
              " '瓶身',\n",
              " '評審',\n",
              " '评审',\n",
              " '平产',\n",
              " '平產',\n",
              " '平鏟',\n",
              " '平铲',\n",
              " '平鎮',\n",
              " '平镇',\n",
              " '平尺',\n",
              " '平車',\n",
              " '平车']"
            ]
          },
          "metadata": {},
          "execution_count": 14
        }
      ]
    },
    {
      "cell_type": "markdown",
      "source": [
        "#### 相同發聲詞"
      ],
      "metadata": {
        "id": "H-IOelihl7EV"
      }
    },
    {
      "cell_type": "code",
      "source": [
        "p2w.find_same_vocab(\"汽車\")\n",
        "# ['气车', '氣車', '汽车']"
      ],
      "metadata": {
        "colab": {
          "base_uri": "https://localhost:8080/"
        },
        "id": "QtUDNWhTmNYh",
        "outputId": "a443729b-1887-4428-d053-ee26d60ff4ad"
      },
      "execution_count": 15,
      "outputs": [
        {
          "output_type": "execute_result",
          "data": {
            "text/plain": [
              "['气车', '氣車', '汽车']"
            ]
          },
          "metadata": {},
          "execution_count": 15
        }
      ]
    },
    {
      "cell_type": "markdown",
      "source": [
        "#### 其他轉換\n",
        "\n",
        "- 尋找相似發音: `Pronounce2Word._find_similar_han_pronounces(self,han,level=1)`\n",
        "    * han: 漢語發音\n",
        "    * level: 編輯距離（越大越寬鬆）"
      ],
      "metadata": {
        "id": "H9q-HKxtmPgF"
      }
    }
  ]
}